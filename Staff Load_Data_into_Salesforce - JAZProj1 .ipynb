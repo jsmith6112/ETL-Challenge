{
 "cells": [
  {
   "cell_type": "markdown",
   "metadata": {},
   "source": [
    "## Install Staff tables \n",
    "     Steps to install Staff tables and do Staff Assignment tables "
   ]
  },
  {
   "cell_type": "markdown",
   "metadata": {},
   "source": [
    "## Import dependencies"
   ]
  },
  {
   "cell_type": "code",
   "execution_count": 1,
   "metadata": {},
   "outputs": [],
   "source": [
    "import json\n",
    "from sqlalchemy import create_engine\n",
    "import pandas as pd\n",
    "import pymysql\n",
    "from datetime import date\n",
    "pymysql.install_as_MySQLdb()"
   ]
  },
  {
   "cell_type": "markdown",
   "metadata": {},
   "source": [
    "## Import configuration variables"
   ]
  },
  {
   "cell_type": "code",
   "execution_count": 2,
   "metadata": {},
   "outputs": [],
   "source": [
    "# import sys\n",
    "# sys.path.append('../../../../')\n",
    "from config import sf_username, sf_password, sf_security_token\n",
    "from config import remote_db_endpoint, remote_db_port\n",
    "from config import remote_db_name, remote_db_user, remote_db_pwd"
   ]
  },
  {
   "cell_type": "markdown",
   "metadata": {},
   "source": [
    "## Set up `simple_salesforce`\n",
    "\n",
    "Pass in the username, password, and security token here. The security token contains information about your org."
   ]
  },
  {
   "cell_type": "code",
   "execution_count": 3,
   "metadata": {},
   "outputs": [],
   "source": [
    "from simple_salesforce import Salesforce\n",
    "sf = Salesforce(username=sf_username, password=sf_password, security_token=sf_security_token)"
   ]
  },
  {
   "cell_type": "markdown",
   "metadata": {},
   "source": [
    "## Connect to your MySQL database"
   ]
  },
  {
   "cell_type": "code",
   "execution_count": 4,
   "metadata": {},
   "outputs": [],
   "source": [
    "engine = create_engine(f\"mysql://{remote_db_user}:{remote_db_pwd}@{remote_db_endpoint}:{remote_db_port}/{remote_db_name}\")\n",
    "conn = engine.connect()"
   ]
  },
  {
   "cell_type": "markdown",
   "metadata": {},
   "source": [
    "## Query Data"
   ]
  },
  {
   "cell_type": "code",
   "execution_count": 5,
   "metadata": {},
   "outputs": [
    {
     "data": {
      "text/html": [
       "<div>\n",
       "<style scoped>\n",
       "    .dataframe tbody tr th:only-of-type {\n",
       "        vertical-align: middle;\n",
       "    }\n",
       "\n",
       "    .dataframe tbody tr th {\n",
       "        vertical-align: top;\n",
       "    }\n",
       "\n",
       "    .dataframe thead th {\n",
       "        text-align: right;\n",
       "    }\n",
       "</style>\n",
       "<table border=\"1\" class=\"dataframe\">\n",
       "  <thead>\n",
       "    <tr style=\"text-align: right;\">\n",
       "      <th></th>\n",
       "      <th>ID_Staff</th>\n",
       "      <th>EmployeeID</th>\n",
       "      <th>LastName</th>\n",
       "      <th>FirstName</th>\n",
       "      <th>MiddleName</th>\n",
       "      <th>BirthDate</th>\n",
       "    </tr>\n",
       "  </thead>\n",
       "  <tbody>\n",
       "    <tr>\n",
       "      <th>0</th>\n",
       "      <td>1</td>\n",
       "      <td>000184220</td>\n",
       "      <td>Wimberly</td>\n",
       "      <td>Sam</td>\n",
       "      <td>Nico</td>\n",
       "      <td>1995-07-05</td>\n",
       "    </tr>\n",
       "    <tr>\n",
       "      <th>1</th>\n",
       "      <td>2</td>\n",
       "      <td>000130109</td>\n",
       "      <td>Sanford</td>\n",
       "      <td>Gemini</td>\n",
       "      <td>Blair</td>\n",
       "      <td>1992-04-22</td>\n",
       "    </tr>\n",
       "    <tr>\n",
       "      <th>2</th>\n",
       "      <td>3</td>\n",
       "      <td>000160655</td>\n",
       "      <td>Williams</td>\n",
       "      <td>Dartanion</td>\n",
       "      <td>De Angelo</td>\n",
       "      <td>1993-05-21</td>\n",
       "    </tr>\n",
       "    <tr>\n",
       "      <th>3</th>\n",
       "      <td>4</td>\n",
       "      <td>000159108</td>\n",
       "      <td>Popelka</td>\n",
       "      <td>Sarah</td>\n",
       "      <td>Nisan</td>\n",
       "      <td>1994-06-07</td>\n",
       "    </tr>\n",
       "  </tbody>\n",
       "</table>\n",
       "</div>"
      ],
      "text/plain": [
       "   ID_Staff EmployeeID  LastName  FirstName MiddleName   BirthDate\n",
       "0         1  000184220  Wimberly        Sam       Nico  1995-07-05\n",
       "1         2  000130109   Sanford     Gemini      Blair  1992-04-22\n",
       "2         3  000160655  Williams  Dartanion  De Angelo  1993-05-21\n",
       "3         4  000159108   Popelka      Sarah      Nisan  1994-06-07"
      ]
     },
     "execution_count": 5,
     "metadata": {},
     "output_type": "execute_result"
    }
   ],
   "source": [
    "staff_data = pd.read_sql(\"SELECT * FROM staff\", conn)\n",
    "staff_data.head(30)"
   ]
  },
  {
   "cell_type": "markdown",
   "metadata": {},
   "source": [
    "## Transform Data"
   ]
  },
  {
   "cell_type": "code",
   "execution_count": 6,
   "metadata": {},
   "outputs": [
    {
     "data": {
      "text/html": [
       "<div>\n",
       "<style scoped>\n",
       "    .dataframe tbody tr th:only-of-type {\n",
       "        vertical-align: middle;\n",
       "    }\n",
       "\n",
       "    .dataframe tbody tr th {\n",
       "        vertical-align: top;\n",
       "    }\n",
       "\n",
       "    .dataframe thead th {\n",
       "        text-align: right;\n",
       "    }\n",
       "</style>\n",
       "<table border=\"1\" class=\"dataframe\">\n",
       "  <thead>\n",
       "    <tr style=\"text-align: right;\">\n",
       "      <th></th>\n",
       "      <th>ID_Staff__c</th>\n",
       "      <th>EmployeeID__c</th>\n",
       "      <th>Lastname__c</th>\n",
       "      <th>Firstname__c</th>\n",
       "      <th>Middlename__c</th>\n",
       "      <th>Birthdate__c</th>\n",
       "    </tr>\n",
       "  </thead>\n",
       "  <tbody>\n",
       "    <tr>\n",
       "      <th>0</th>\n",
       "      <td>1</td>\n",
       "      <td>000184220</td>\n",
       "      <td>Wimberly</td>\n",
       "      <td>Sam</td>\n",
       "      <td>Nico</td>\n",
       "      <td>1995-07-05</td>\n",
       "    </tr>\n",
       "    <tr>\n",
       "      <th>1</th>\n",
       "      <td>2</td>\n",
       "      <td>000130109</td>\n",
       "      <td>Sanford</td>\n",
       "      <td>Gemini</td>\n",
       "      <td>Blair</td>\n",
       "      <td>1992-04-22</td>\n",
       "    </tr>\n",
       "    <tr>\n",
       "      <th>2</th>\n",
       "      <td>3</td>\n",
       "      <td>000160655</td>\n",
       "      <td>Williams</td>\n",
       "      <td>Dartanion</td>\n",
       "      <td>De Angelo</td>\n",
       "      <td>1993-05-21</td>\n",
       "    </tr>\n",
       "    <tr>\n",
       "      <th>3</th>\n",
       "      <td>4</td>\n",
       "      <td>000159108</td>\n",
       "      <td>Popelka</td>\n",
       "      <td>Sarah</td>\n",
       "      <td>Nisan</td>\n",
       "      <td>1994-06-07</td>\n",
       "    </tr>\n",
       "  </tbody>\n",
       "</table>\n",
       "</div>"
      ],
      "text/plain": [
       "   ID_Staff__c EmployeeID__c Lastname__c Firstname__c Middlename__c  \\\n",
       "0            1     000184220    Wimberly          Sam          Nico   \n",
       "1            2     000130109     Sanford       Gemini         Blair   \n",
       "2            3     000160655    Williams    Dartanion     De Angelo   \n",
       "3            4     000159108     Popelka        Sarah         Nisan   \n",
       "\n",
       "  Birthdate__c  \n",
       "0   1995-07-05  \n",
       "1   1992-04-22  \n",
       "2   1993-05-21  \n",
       "3   1994-06-07  "
      ]
     },
     "execution_count": 6,
     "metadata": {},
     "output_type": "execute_result"
    }
   ],
   "source": [
    "staff_data = staff_data.rename(columns={'ID_Staff':'ID_Staff__c',\n",
    "                                          'EmployeeID':'EmployeeID__c',\n",
    "                                          'LastName':'Lastname__c',\n",
    "                                          'FirstName':'Firstname__c',\n",
    "                                          'MiddleName':'Middlename__c',\n",
    "                                          'BirthDate':'Birthdate__c'\n",
    "                                         })\n",
    "\n",
    "staff_data"
   ]
  },
  {
   "cell_type": "code",
   "execution_count": 7,
   "metadata": {},
   "outputs": [
    {
     "data": {
      "text/html": [
       "<div>\n",
       "<style scoped>\n",
       "    .dataframe tbody tr th:only-of-type {\n",
       "        vertical-align: middle;\n",
       "    }\n",
       "\n",
       "    .dataframe tbody tr th {\n",
       "        vertical-align: top;\n",
       "    }\n",
       "\n",
       "    .dataframe thead th {\n",
       "        text-align: right;\n",
       "    }\n",
       "</style>\n",
       "<table border=\"1\" class=\"dataframe\">\n",
       "  <thead>\n",
       "    <tr style=\"text-align: right;\">\n",
       "      <th></th>\n",
       "      <th>ID_Staff__c</th>\n",
       "      <th>EmployeeID__c</th>\n",
       "      <th>Lastname__c</th>\n",
       "      <th>Firstname__c</th>\n",
       "      <th>Middlename__c</th>\n",
       "      <th>Birthdate__c</th>\n",
       "    </tr>\n",
       "  </thead>\n",
       "  <tbody>\n",
       "    <tr>\n",
       "      <th>0</th>\n",
       "      <td>1</td>\n",
       "      <td>000184220</td>\n",
       "      <td>Wimberly</td>\n",
       "      <td>Sam</td>\n",
       "      <td>Nico</td>\n",
       "      <td>1995-07-05</td>\n",
       "    </tr>\n",
       "    <tr>\n",
       "      <th>1</th>\n",
       "      <td>2</td>\n",
       "      <td>000130109</td>\n",
       "      <td>Sanford</td>\n",
       "      <td>Gemini</td>\n",
       "      <td>Blair</td>\n",
       "      <td>1992-04-22</td>\n",
       "    </tr>\n",
       "    <tr>\n",
       "      <th>2</th>\n",
       "      <td>3</td>\n",
       "      <td>000160655</td>\n",
       "      <td>Williams</td>\n",
       "      <td>Dartanion</td>\n",
       "      <td>De Angelo</td>\n",
       "      <td>1993-05-21</td>\n",
       "    </tr>\n",
       "    <tr>\n",
       "      <th>3</th>\n",
       "      <td>4</td>\n",
       "      <td>000159108</td>\n",
       "      <td>Popelka</td>\n",
       "      <td>Sarah</td>\n",
       "      <td>Nisan</td>\n",
       "      <td>1994-06-07</td>\n",
       "    </tr>\n",
       "  </tbody>\n",
       "</table>\n",
       "</div>"
      ],
      "text/plain": [
       "   ID_Staff__c EmployeeID__c Lastname__c Firstname__c Middlename__c  \\\n",
       "0            1     000184220    Wimberly          Sam          Nico   \n",
       "1            2     000130109     Sanford       Gemini         Blair   \n",
       "2            3     000160655    Williams    Dartanion     De Angelo   \n",
       "3            4     000159108     Popelka        Sarah         Nisan   \n",
       "\n",
       "  Birthdate__c  \n",
       "0   1995-07-05  \n",
       "1   1992-04-22  \n",
       "2   1993-05-21  \n",
       "3   1994-06-07  "
      ]
     },
     "execution_count": 7,
     "metadata": {},
     "output_type": "execute_result"
    }
   ],
   "source": [
    "staff_data['Birthdate__c'] = pd.to_datetime(staff_data['Birthdate__c']).dt.date\n",
    "\n",
    "staff_data.head()"
   ]
  },
  {
   "cell_type": "markdown",
   "metadata": {},
   "source": [
    "## Convert DataFrame to a list of dictionaries \n",
    "\n",
    "This can help facilitate a bulk insert"
   ]
  },
  {
   "cell_type": "code",
   "execution_count": 8,
   "metadata": {},
   "outputs": [
    {
     "data": {
      "text/plain": [
       "[{'ID_Staff__c': 1,\n",
       "  'EmployeeID__c': '000184220',\n",
       "  'Lastname__c': 'Wimberly',\n",
       "  'Firstname__c': 'Sam',\n",
       "  'Middlename__c': 'Nico',\n",
       "  'Birthdate__c': datetime.date(1995, 7, 5)},\n",
       " {'ID_Staff__c': 2,\n",
       "  'EmployeeID__c': '000130109',\n",
       "  'Lastname__c': 'Sanford',\n",
       "  'Firstname__c': 'Gemini',\n",
       "  'Middlename__c': 'Blair',\n",
       "  'Birthdate__c': datetime.date(1992, 4, 22)},\n",
       " {'ID_Staff__c': 3,\n",
       "  'EmployeeID__c': '000160655',\n",
       "  'Lastname__c': 'Williams',\n",
       "  'Firstname__c': 'Dartanion',\n",
       "  'Middlename__c': 'De Angelo',\n",
       "  'Birthdate__c': datetime.date(1993, 5, 21)},\n",
       " {'ID_Staff__c': 4,\n",
       "  'EmployeeID__c': '000159108',\n",
       "  'Lastname__c': 'Popelka',\n",
       "  'Firstname__c': 'Sarah',\n",
       "  'Middlename__c': 'Nisan',\n",
       "  'Birthdate__c': datetime.date(1994, 6, 7)}]"
      ]
     },
     "execution_count": 8,
     "metadata": {},
     "output_type": "execute_result"
    }
   ],
   "source": [
    "staff_records = staff_data.to_dict('records')\n",
    "staff_records"
   ]
  },
  {
   "cell_type": "markdown",
   "metadata": {},
   "source": [
    "## Insert records to staff table"
   ]
  },
  {
   "cell_type": "code",
   "execution_count": null,
   "metadata": {},
   "outputs": [],
   "source": [
    "for rec in staff_records:\n",
    "\n",
    "    record = {\n",
    "        'ID_Staff__c': rec['ID_Staff__c'],\n",
    "        'EmployeeID__c': rec['EmployeeID__c'],\n",
    "        'Lastname__c': rec['Lastname__c'],\n",
    "        'Firstname__c': rec['Firstname__c'],\n",
    "        'Middlename__c':rec['Middlename__c'],\n",
    "        'Birthdate__c': str(rec['Birthdate__c'])\n",
    "    }\n",
    "    \n",
    "    try:\n",
    "        sf.staff__c.create(record)\n",
    "    except Exception as e:\n",
    "        print(e)"
   ]
  },
  {
   "cell_type": "markdown",
   "metadata": {},
   "source": [
    "## Create Staff Lookup Table\n",
    "Use this later to crosswalk the course code with the primary key from the `staff` table\n",
    "\n",
    "The query **Salesforce** to retrieve the record IDs "
   ]
  },
  {
   "cell_type": "code",
   "execution_count": 9,
   "metadata": {},
   "outputs": [
    {
     "data": {
      "text/plain": [
       "[{'staffrecord_ID__c': 'a073h000002uHds', 'EmployeeID__c': '000160655'},\n",
       " {'staffrecord_ID__c': 'a073h000002uHdi', 'EmployeeID__c': '000184220'},\n",
       " {'staffrecord_ID__c': 'a073h000002uHdx', 'EmployeeID__c': '000159108'},\n",
       " {'staffrecord_ID__c': 'a073h000002uHdn', 'EmployeeID__c': '000130109'}]"
      ]
     },
     "execution_count": 9,
     "metadata": {},
     "output_type": "execute_result"
    }
   ],
   "source": [
    "staff_lookup_list = []\n",
    "\n",
    "# The `Name` column in the primary key in Salesforce objects\n",
    "# The Salesforce query language is called SOQL \n",
    "data = sf.query_all_iter(\"SELECT EmployeeID__c, Name FROM staff__c\")\n",
    "for row in data:\n",
    "    rec = {\n",
    "        'staffrecord_ID__c': row['Name'], # this is a critical line of code\n",
    "        'EmployeeID__c': row['EmployeeID__c']\n",
    "    }\n",
    "    staff_lookup_list.append(rec)\n",
    "    \n",
    "staff_lookup_list"
   ]
  },
  {
   "cell_type": "code",
   "execution_count": 10,
   "metadata": {},
   "outputs": [
    {
     "data": {
      "text/html": [
       "<div>\n",
       "<style scoped>\n",
       "    .dataframe tbody tr th:only-of-type {\n",
       "        vertical-align: middle;\n",
       "    }\n",
       "\n",
       "    .dataframe tbody tr th {\n",
       "        vertical-align: top;\n",
       "    }\n",
       "\n",
       "    .dataframe thead th {\n",
       "        text-align: right;\n",
       "    }\n",
       "</style>\n",
       "<table border=\"1\" class=\"dataframe\">\n",
       "  <thead>\n",
       "    <tr style=\"text-align: right;\">\n",
       "      <th></th>\n",
       "      <th>staffrecord_ID__c</th>\n",
       "      <th>EmployeeID__c</th>\n",
       "    </tr>\n",
       "  </thead>\n",
       "  <tbody>\n",
       "    <tr>\n",
       "      <th>0</th>\n",
       "      <td>a073h000002uHds</td>\n",
       "      <td>000160655</td>\n",
       "    </tr>\n",
       "    <tr>\n",
       "      <th>1</th>\n",
       "      <td>a073h000002uHdi</td>\n",
       "      <td>000184220</td>\n",
       "    </tr>\n",
       "    <tr>\n",
       "      <th>2</th>\n",
       "      <td>a073h000002uHdx</td>\n",
       "      <td>000159108</td>\n",
       "    </tr>\n",
       "    <tr>\n",
       "      <th>3</th>\n",
       "      <td>a073h000002uHdn</td>\n",
       "      <td>000130109</td>\n",
       "    </tr>\n",
       "  </tbody>\n",
       "</table>\n",
       "</div>"
      ],
      "text/plain": [
       "  staffrecord_ID__c EmployeeID__c\n",
       "0   a073h000002uHds     000160655\n",
       "1   a073h000002uHdi     000184220\n",
       "2   a073h000002uHdx     000159108\n",
       "3   a073h000002uHdn     000130109"
      ]
     },
     "execution_count": 10,
     "metadata": {},
     "output_type": "execute_result"
    }
   ],
   "source": [
    "staff_lookup_df = pd.DataFrame(staff_lookup_list)\n",
    "staff_lookup_df"
   ]
  },
  {
   "cell_type": "markdown",
   "metadata": {},
   "source": [
    "## Create class Lookup Table"
   ]
  },
  {
   "cell_type": "code",
   "execution_count": 11,
   "metadata": {},
   "outputs": [
    {
     "data": {
      "text/plain": [
       "[{'Class Record ID ': 'a083h000000nn4o', 'Section__c': 'GWARL201905UIUX3'},\n",
       " {'Class Record ID ': 'a083h000000nn4Z', 'Section__c': 'GWU-ARL-DATA-PT-09-0'},\n",
       " {'Class Record ID ': 'a083h000000nn4j', 'Section__c': 'GWARL201905WEB3'},\n",
       " {'Class Record ID ': 'a083h000000nn4e', 'Section__c': 'GWDC201805DATA3'}]"
      ]
     },
     "execution_count": 11,
     "metadata": {},
     "output_type": "execute_result"
    }
   ],
   "source": [
    "class_lookup_list = []\n",
    "\n",
    "# The `Name` column in the primary key in Salesforce objects\n",
    "data = sf.query_all_iter(\"SELECT Section__c, Name FROM class__c\")\n",
    "for row in data:\n",
    "    rec = {\n",
    "        'Class Record ID ': row['Name'],\n",
    "        'Section__c': row['Section__c']\n",
    "    }\n",
    "    class_lookup_list.append(rec)\n",
    "class_lookup_list"
   ]
  },
  {
   "cell_type": "code",
   "execution_count": 13,
   "metadata": {},
   "outputs": [
    {
     "data": {
      "text/html": [
       "<div>\n",
       "<style scoped>\n",
       "    .dataframe tbody tr th:only-of-type {\n",
       "        vertical-align: middle;\n",
       "    }\n",
       "\n",
       "    .dataframe tbody tr th {\n",
       "        vertical-align: top;\n",
       "    }\n",
       "\n",
       "    .dataframe thead th {\n",
       "        text-align: right;\n",
       "    }\n",
       "</style>\n",
       "<table border=\"1\" class=\"dataframe\">\n",
       "  <thead>\n",
       "    <tr style=\"text-align: right;\">\n",
       "      <th></th>\n",
       "      <th>Class Record ID</th>\n",
       "      <th>Section__c</th>\n",
       "    </tr>\n",
       "  </thead>\n",
       "  <tbody>\n",
       "    <tr>\n",
       "      <th>0</th>\n",
       "      <td>a083h000000nn4o</td>\n",
       "      <td>GWARL201905UIUX3</td>\n",
       "    </tr>\n",
       "    <tr>\n",
       "      <th>1</th>\n",
       "      <td>a083h000000nn4Z</td>\n",
       "      <td>GWU-ARL-DATA-PT-09-0</td>\n",
       "    </tr>\n",
       "    <tr>\n",
       "      <th>2</th>\n",
       "      <td>a083h000000nn4j</td>\n",
       "      <td>GWARL201905WEB3</td>\n",
       "    </tr>\n",
       "    <tr>\n",
       "      <th>3</th>\n",
       "      <td>a083h000000nn4e</td>\n",
       "      <td>GWDC201805DATA3</td>\n",
       "    </tr>\n",
       "  </tbody>\n",
       "</table>\n",
       "</div>"
      ],
      "text/plain": [
       "  Class Record ID             Section__c\n",
       "0  a083h000000nn4o      GWARL201905UIUX3\n",
       "1  a083h000000nn4Z  GWU-ARL-DATA-PT-09-0\n",
       "2  a083h000000nn4j       GWARL201905WEB3\n",
       "3  a083h000000nn4e       GWDC201805DATA3"
      ]
     },
     "execution_count": 13,
     "metadata": {},
     "output_type": "execute_result"
    }
   ],
   "source": [
    "class_lookup_df = pd.DataFrame(class_lookup_list)\n",
    "class_lookup_df = class_lookup_df.rename(columns={'Class Record ID':'Class_Record_ID__c'})\n",
    "class_lookup_df"
   ]
  },
  {
   "cell_type": "code",
   "execution_count": 14,
   "metadata": {},
   "outputs": [
    {
     "name": "stdout",
     "output_type": "stream",
     "text": [
      "<class 'pandas.core.frame.DataFrame'>\n",
      "RangeIndex: 4 entries, 0 to 3\n",
      "Data columns (total 2 columns):\n",
      " #   Column            Non-Null Count  Dtype \n",
      "---  ------            --------------  ----- \n",
      " 0   Class Record ID   4 non-null      object\n",
      " 1   Section__c        4 non-null      object\n",
      "dtypes: object(2)\n",
      "memory usage: 192.0+ bytes\n"
     ]
    }
   ],
   "source": [
    "class_lookup_df.info()"
   ]
  },
  {
   "cell_type": "markdown",
   "metadata": {},
   "source": [
    "## SQL Query to pull staff assignment data"
   ]
  },
  {
   "cell_type": "code",
   "execution_count": 15,
   "metadata": {},
   "outputs": [
    {
     "data": {
      "text/html": [
       "<div>\n",
       "<style scoped>\n",
       "    .dataframe tbody tr th:only-of-type {\n",
       "        vertical-align: middle;\n",
       "    }\n",
       "\n",
       "    .dataframe tbody tr th {\n",
       "        vertical-align: top;\n",
       "    }\n",
       "\n",
       "    .dataframe thead th {\n",
       "        text-align: right;\n",
       "    }\n",
       "</style>\n",
       "<table border=\"1\" class=\"dataframe\">\n",
       "  <thead>\n",
       "    <tr style=\"text-align: right;\">\n",
       "      <th></th>\n",
       "      <th>ID_StaffAssignment</th>\n",
       "      <th>ID_Staff</th>\n",
       "      <th>ID_Class</th>\n",
       "      <th>Role</th>\n",
       "      <th>StartDate</th>\n",
       "      <th>EndDate</th>\n",
       "      <th>Section</th>\n",
       "      <th>EmployeeID</th>\n",
       "    </tr>\n",
       "  </thead>\n",
       "  <tbody>\n",
       "    <tr>\n",
       "      <th>0</th>\n",
       "      <td>1</td>\n",
       "      <td>1</td>\n",
       "      <td>1</td>\n",
       "      <td>Teacher Assistant</td>\n",
       "      <td>2020-03-16</td>\n",
       "      <td>None</td>\n",
       "      <td>GWU-ARL-DATA-PT-09-0</td>\n",
       "      <td>000184220</td>\n",
       "    </tr>\n",
       "    <tr>\n",
       "      <th>1</th>\n",
       "      <td>2</td>\n",
       "      <td>4</td>\n",
       "      <td>1</td>\n",
       "      <td>Teacher Assistant</td>\n",
       "      <td>2020-03-16</td>\n",
       "      <td>None</td>\n",
       "      <td>GWU-ARL-DATA-PT-09-0</td>\n",
       "      <td>000159108</td>\n",
       "    </tr>\n",
       "    <tr>\n",
       "      <th>2</th>\n",
       "      <td>3</td>\n",
       "      <td>3</td>\n",
       "      <td>1</td>\n",
       "      <td>Instructor</td>\n",
       "      <td>2020-03-16</td>\n",
       "      <td>None</td>\n",
       "      <td>GWU-ARL-DATA-PT-09-0</td>\n",
       "      <td>000160655</td>\n",
       "    </tr>\n",
       "  </tbody>\n",
       "</table>\n",
       "</div>"
      ],
      "text/plain": [
       "   ID_StaffAssignment  ID_Staff  ID_Class               Role   StartDate  \\\n",
       "0                   1         1         1  Teacher Assistant  2020-03-16   \n",
       "1                   2         4         1  Teacher Assistant  2020-03-16   \n",
       "2                   3         3         1         Instructor  2020-03-16   \n",
       "\n",
       "  EndDate               Section EmployeeID  \n",
       "0    None  GWU-ARL-DATA-PT-09-0  000184220  \n",
       "1    None  GWU-ARL-DATA-PT-09-0  000159108  \n",
       "2    None  GWU-ARL-DATA-PT-09-0  000160655  "
      ]
     },
     "execution_count": 15,
     "metadata": {},
     "output_type": "execute_result"
    }
   ],
   "source": [
    "query = '''\n",
    "    SELECT\n",
    "        sa.*\n",
    "        ,c.Section\n",
    "        ,s.EmployeeID\n",
    "    FROM\n",
    "        staffassignment sa\n",
    "        INNER JOIN class c\n",
    "        ON c.ID_class  = sa.ID_class\n",
    "        INNER Join staff s \n",
    "        on s.ID_staff = sa.ID_staff\n",
    "'''\n",
    "staffassignment_data_df = pd.read_sql(query, conn)\n",
    "staffassignment_data_df"
   ]
  },
  {
   "cell_type": "code",
   "execution_count": 17,
   "metadata": {},
   "outputs": [
    {
     "data": {
      "text/html": [
       "<div>\n",
       "<style scoped>\n",
       "    .dataframe tbody tr th:only-of-type {\n",
       "        vertical-align: middle;\n",
       "    }\n",
       "\n",
       "    .dataframe tbody tr th {\n",
       "        vertical-align: top;\n",
       "    }\n",
       "\n",
       "    .dataframe thead th {\n",
       "        text-align: right;\n",
       "    }\n",
       "</style>\n",
       "<table border=\"1\" class=\"dataframe\">\n",
       "  <thead>\n",
       "    <tr style=\"text-align: right;\">\n",
       "      <th></th>\n",
       "      <th>ID_StaffAssignment__c</th>\n",
       "      <th>ID_Staff__c</th>\n",
       "      <th>ID_Class__c</th>\n",
       "      <th>Role__c</th>\n",
       "      <th>StartDate__c</th>\n",
       "      <th>EndDate__c</th>\n",
       "      <th>Section__c</th>\n",
       "      <th>EmployeeID__c</th>\n",
       "    </tr>\n",
       "  </thead>\n",
       "  <tbody>\n",
       "    <tr>\n",
       "      <th>0</th>\n",
       "      <td>1</td>\n",
       "      <td>1</td>\n",
       "      <td>1</td>\n",
       "      <td>Teacher Assistant</td>\n",
       "      <td>2020-03-16</td>\n",
       "      <td>None</td>\n",
       "      <td>GWU-ARL-DATA-PT-09-0</td>\n",
       "      <td>000184220</td>\n",
       "    </tr>\n",
       "    <tr>\n",
       "      <th>1</th>\n",
       "      <td>2</td>\n",
       "      <td>4</td>\n",
       "      <td>1</td>\n",
       "      <td>Teacher Assistant</td>\n",
       "      <td>2020-03-16</td>\n",
       "      <td>None</td>\n",
       "      <td>GWU-ARL-DATA-PT-09-0</td>\n",
       "      <td>000159108</td>\n",
       "    </tr>\n",
       "    <tr>\n",
       "      <th>2</th>\n",
       "      <td>3</td>\n",
       "      <td>3</td>\n",
       "      <td>1</td>\n",
       "      <td>Instructor</td>\n",
       "      <td>2020-03-16</td>\n",
       "      <td>None</td>\n",
       "      <td>GWU-ARL-DATA-PT-09-0</td>\n",
       "      <td>000160655</td>\n",
       "    </tr>\n",
       "  </tbody>\n",
       "</table>\n",
       "</div>"
      ],
      "text/plain": [
       "   ID_StaffAssignment__c  ID_Staff__c  ID_Class__c            Role__c  \\\n",
       "0                      1            1            1  Teacher Assistant   \n",
       "1                      2            4            1  Teacher Assistant   \n",
       "2                      3            3            1         Instructor   \n",
       "\n",
       "  StartDate__c EndDate__c            Section__c EmployeeID__c  \n",
       "0   2020-03-16       None  GWU-ARL-DATA-PT-09-0     000184220  \n",
       "1   2020-03-16       None  GWU-ARL-DATA-PT-09-0     000159108  \n",
       "2   2020-03-16       None  GWU-ARL-DATA-PT-09-0     000160655  "
      ]
     },
     "execution_count": 17,
     "metadata": {},
     "output_type": "execute_result"
    }
   ],
   "source": [
    "staffassignment_data_df = staffassignment_data_df.rename(columns={\n",
    "                                                                'ID_StaffAssignment':'ID_StaffAssignment__c',\n",
    "                                                                'ID_Staff':'ID_Staff__c',\n",
    "                                                                'ID_Class':'ID_Class__c',\n",
    "                                                                'Role':'Role__c',\n",
    "                                                                'StartDate':'StartDate__c',\n",
    "                                                                'EndDate':'EndDate__c',\n",
    "                                                                'Section':'Section__c',\n",
    "                                                                'EmployeeID':'EmployeeID__c',   \n",
    "})\n",
    "staffassignment_data_df"
   ]
  },
  {
   "cell_type": "code",
   "execution_count": 18,
   "metadata": {},
   "outputs": [
    {
     "data": {
      "text/html": [
       "<div>\n",
       "<style scoped>\n",
       "    .dataframe tbody tr th:only-of-type {\n",
       "        vertical-align: middle;\n",
       "    }\n",
       "\n",
       "    .dataframe tbody tr th {\n",
       "        vertical-align: top;\n",
       "    }\n",
       "\n",
       "    .dataframe thead th {\n",
       "        text-align: right;\n",
       "    }\n",
       "</style>\n",
       "<table border=\"1\" class=\"dataframe\">\n",
       "  <thead>\n",
       "    <tr style=\"text-align: right;\">\n",
       "      <th></th>\n",
       "      <th>ID_StaffAssignment__c</th>\n",
       "      <th>ID_Staff__c</th>\n",
       "      <th>ID_Class__c</th>\n",
       "      <th>Role__c</th>\n",
       "      <th>StartDate__c</th>\n",
       "      <th>EndDate__c</th>\n",
       "      <th>Section__c</th>\n",
       "      <th>EmployeeID__c</th>\n",
       "    </tr>\n",
       "  </thead>\n",
       "  <tbody>\n",
       "    <tr>\n",
       "      <th>0</th>\n",
       "      <td>1</td>\n",
       "      <td>1</td>\n",
       "      <td>1</td>\n",
       "      <td>Teacher Assistant</td>\n",
       "      <td>2020-03-16</td>\n",
       "      <td>NaT</td>\n",
       "      <td>GWU-ARL-DATA-PT-09-0</td>\n",
       "      <td>000184220</td>\n",
       "    </tr>\n",
       "    <tr>\n",
       "      <th>1</th>\n",
       "      <td>2</td>\n",
       "      <td>4</td>\n",
       "      <td>1</td>\n",
       "      <td>Teacher Assistant</td>\n",
       "      <td>2020-03-16</td>\n",
       "      <td>NaT</td>\n",
       "      <td>GWU-ARL-DATA-PT-09-0</td>\n",
       "      <td>000159108</td>\n",
       "    </tr>\n",
       "    <tr>\n",
       "      <th>2</th>\n",
       "      <td>3</td>\n",
       "      <td>3</td>\n",
       "      <td>1</td>\n",
       "      <td>Instructor</td>\n",
       "      <td>2020-03-16</td>\n",
       "      <td>NaT</td>\n",
       "      <td>GWU-ARL-DATA-PT-09-0</td>\n",
       "      <td>000160655</td>\n",
       "    </tr>\n",
       "  </tbody>\n",
       "</table>\n",
       "</div>"
      ],
      "text/plain": [
       "   ID_StaffAssignment__c  ID_Staff__c  ID_Class__c            Role__c  \\\n",
       "0                      1            1            1  Teacher Assistant   \n",
       "1                      2            4            1  Teacher Assistant   \n",
       "2                      3            3            1         Instructor   \n",
       "\n",
       "  StartDate__c EndDate__c            Section__c EmployeeID__c  \n",
       "0   2020-03-16        NaT  GWU-ARL-DATA-PT-09-0     000184220  \n",
       "1   2020-03-16        NaT  GWU-ARL-DATA-PT-09-0     000159108  \n",
       "2   2020-03-16        NaT  GWU-ARL-DATA-PT-09-0     000160655  "
      ]
     },
     "execution_count": 18,
     "metadata": {},
     "output_type": "execute_result"
    }
   ],
   "source": [
    "staffassignment_data_df['StartDate__c'] = pd.to_datetime(staffassignment_data_df['StartDate__c']).dt.date\n",
    "staffassignment_data_df['EndDate__c'] = pd.to_datetime(staffassignment_data_df['EndDate__c']).dt.date\n",
    "staffassignment_data_df"
   ]
  },
  {
   "cell_type": "markdown",
   "metadata": {},
   "source": [
    "## Merges - Pull in Staff Record and Class Record to prep for upload"
   ]
  },
  {
   "cell_type": "code",
   "execution_count": 19,
   "metadata": {},
   "outputs": [
    {
     "data": {
      "text/html": [
       "<div>\n",
       "<style scoped>\n",
       "    .dataframe tbody tr th:only-of-type {\n",
       "        vertical-align: middle;\n",
       "    }\n",
       "\n",
       "    .dataframe tbody tr th {\n",
       "        vertical-align: top;\n",
       "    }\n",
       "\n",
       "    .dataframe thead th {\n",
       "        text-align: right;\n",
       "    }\n",
       "</style>\n",
       "<table border=\"1\" class=\"dataframe\">\n",
       "  <thead>\n",
       "    <tr style=\"text-align: right;\">\n",
       "      <th></th>\n",
       "      <th>ID_StaffAssignment__c</th>\n",
       "      <th>ID_Staff__c</th>\n",
       "      <th>ID_Class__c</th>\n",
       "      <th>Role__c</th>\n",
       "      <th>StartDate__c</th>\n",
       "      <th>EndDate__c</th>\n",
       "      <th>Section__c</th>\n",
       "      <th>EmployeeID__c</th>\n",
       "      <th>staffrecord_ID__c</th>\n",
       "    </tr>\n",
       "  </thead>\n",
       "  <tbody>\n",
       "    <tr>\n",
       "      <th>0</th>\n",
       "      <td>1</td>\n",
       "      <td>1</td>\n",
       "      <td>1</td>\n",
       "      <td>Teacher Assistant</td>\n",
       "      <td>2020-03-16</td>\n",
       "      <td>NaT</td>\n",
       "      <td>GWU-ARL-DATA-PT-09-0</td>\n",
       "      <td>000184220</td>\n",
       "      <td>a073h000002uHdi</td>\n",
       "    </tr>\n",
       "    <tr>\n",
       "      <th>1</th>\n",
       "      <td>2</td>\n",
       "      <td>4</td>\n",
       "      <td>1</td>\n",
       "      <td>Teacher Assistant</td>\n",
       "      <td>2020-03-16</td>\n",
       "      <td>NaT</td>\n",
       "      <td>GWU-ARL-DATA-PT-09-0</td>\n",
       "      <td>000159108</td>\n",
       "      <td>a073h000002uHdx</td>\n",
       "    </tr>\n",
       "    <tr>\n",
       "      <th>2</th>\n",
       "      <td>3</td>\n",
       "      <td>3</td>\n",
       "      <td>1</td>\n",
       "      <td>Instructor</td>\n",
       "      <td>2020-03-16</td>\n",
       "      <td>NaT</td>\n",
       "      <td>GWU-ARL-DATA-PT-09-0</td>\n",
       "      <td>000160655</td>\n",
       "      <td>a073h000002uHds</td>\n",
       "    </tr>\n",
       "  </tbody>\n",
       "</table>\n",
       "</div>"
      ],
      "text/plain": [
       "   ID_StaffAssignment__c  ID_Staff__c  ID_Class__c            Role__c  \\\n",
       "0                      1            1            1  Teacher Assistant   \n",
       "1                      2            4            1  Teacher Assistant   \n",
       "2                      3            3            1         Instructor   \n",
       "\n",
       "  StartDate__c EndDate__c            Section__c EmployeeID__c  \\\n",
       "0   2020-03-16        NaT  GWU-ARL-DATA-PT-09-0     000184220   \n",
       "1   2020-03-16        NaT  GWU-ARL-DATA-PT-09-0     000159108   \n",
       "2   2020-03-16        NaT  GWU-ARL-DATA-PT-09-0     000160655   \n",
       "\n",
       "  staffrecord_ID__c  \n",
       "0   a073h000002uHdi  \n",
       "1   a073h000002uHdx  \n",
       "2   a073h000002uHds  "
      ]
     },
     "execution_count": 19,
     "metadata": {},
     "output_type": "execute_result"
    }
   ],
   "source": [
    "sa_merge_df = pd.merge(staffassignment_data_df,staff_lookup_df , how='left')\n",
    "#class_data_df.drop(columns = ['ID_Class','ID_Course','Course__c','Section__c','StartDate__c','Enddate__c','coursecode__c'], inplace=True)\n",
    "\n",
    "sa_merge_df"
   ]
  },
  {
   "cell_type": "code",
   "execution_count": 20,
   "metadata": {},
   "outputs": [
    {
     "data": {
      "text/html": [
       "<div>\n",
       "<style scoped>\n",
       "    .dataframe tbody tr th:only-of-type {\n",
       "        vertical-align: middle;\n",
       "    }\n",
       "\n",
       "    .dataframe tbody tr th {\n",
       "        vertical-align: top;\n",
       "    }\n",
       "\n",
       "    .dataframe thead th {\n",
       "        text-align: right;\n",
       "    }\n",
       "</style>\n",
       "<table border=\"1\" class=\"dataframe\">\n",
       "  <thead>\n",
       "    <tr style=\"text-align: right;\">\n",
       "      <th></th>\n",
       "      <th>ID_StaffAssignment__c</th>\n",
       "      <th>ID_Staff__c</th>\n",
       "      <th>ID_Class__c</th>\n",
       "      <th>Role__c</th>\n",
       "      <th>StartDate__c</th>\n",
       "      <th>EndDate__c</th>\n",
       "      <th>Section__c</th>\n",
       "      <th>EmployeeID__c</th>\n",
       "      <th>staffrecord_ID__c</th>\n",
       "      <th>Class Record ID</th>\n",
       "    </tr>\n",
       "  </thead>\n",
       "  <tbody>\n",
       "    <tr>\n",
       "      <th>0</th>\n",
       "      <td>1</td>\n",
       "      <td>1</td>\n",
       "      <td>1</td>\n",
       "      <td>Teacher Assistant</td>\n",
       "      <td>2020-03-16</td>\n",
       "      <td>NaT</td>\n",
       "      <td>GWU-ARL-DATA-PT-09-0</td>\n",
       "      <td>000184220</td>\n",
       "      <td>a073h000002uHdi</td>\n",
       "      <td>a083h000000nn4Z</td>\n",
       "    </tr>\n",
       "    <tr>\n",
       "      <th>1</th>\n",
       "      <td>2</td>\n",
       "      <td>4</td>\n",
       "      <td>1</td>\n",
       "      <td>Teacher Assistant</td>\n",
       "      <td>2020-03-16</td>\n",
       "      <td>NaT</td>\n",
       "      <td>GWU-ARL-DATA-PT-09-0</td>\n",
       "      <td>000159108</td>\n",
       "      <td>a073h000002uHdx</td>\n",
       "      <td>a083h000000nn4Z</td>\n",
       "    </tr>\n",
       "    <tr>\n",
       "      <th>2</th>\n",
       "      <td>3</td>\n",
       "      <td>3</td>\n",
       "      <td>1</td>\n",
       "      <td>Instructor</td>\n",
       "      <td>2020-03-16</td>\n",
       "      <td>NaT</td>\n",
       "      <td>GWU-ARL-DATA-PT-09-0</td>\n",
       "      <td>000160655</td>\n",
       "      <td>a073h000002uHds</td>\n",
       "      <td>a083h000000nn4Z</td>\n",
       "    </tr>\n",
       "  </tbody>\n",
       "</table>\n",
       "</div>"
      ],
      "text/plain": [
       "   ID_StaffAssignment__c  ID_Staff__c  ID_Class__c            Role__c  \\\n",
       "0                      1            1            1  Teacher Assistant   \n",
       "1                      2            4            1  Teacher Assistant   \n",
       "2                      3            3            1         Instructor   \n",
       "\n",
       "  StartDate__c EndDate__c            Section__c EmployeeID__c  \\\n",
       "0   2020-03-16        NaT  GWU-ARL-DATA-PT-09-0     000184220   \n",
       "1   2020-03-16        NaT  GWU-ARL-DATA-PT-09-0     000159108   \n",
       "2   2020-03-16        NaT  GWU-ARL-DATA-PT-09-0     000160655   \n",
       "\n",
       "  staffrecord_ID__c Class Record ID   \n",
       "0   a073h000002uHdi  a083h000000nn4Z  \n",
       "1   a073h000002uHdx  a083h000000nn4Z  \n",
       "2   a073h000002uHds  a083h000000nn4Z  "
      ]
     },
     "execution_count": 20,
     "metadata": {},
     "output_type": "execute_result"
    }
   ],
   "source": [
    "sa_merge_df = pd.merge(sa_merge_df,class_lookup_df, how='left')\n",
    "#class_data_df.drop(columns = ['ID_Class','ID_Course','Course__c','Section__c','StartDate__c','Enddate__c','coursecode__c'], inplace=True)\n",
    "\n",
    "sa_merge_df"
   ]
  },
  {
   "cell_type": "markdown",
   "metadata": {},
   "source": [
    "## Drop unnecessary columns"
   ]
  },
  {
   "cell_type": "code",
   "execution_count": 21,
   "metadata": {},
   "outputs": [
    {
     "data": {
      "text/html": [
       "<div>\n",
       "<style scoped>\n",
       "    .dataframe tbody tr th:only-of-type {\n",
       "        vertical-align: middle;\n",
       "    }\n",
       "\n",
       "    .dataframe tbody tr th {\n",
       "        vertical-align: top;\n",
       "    }\n",
       "\n",
       "    .dataframe thead th {\n",
       "        text-align: right;\n",
       "    }\n",
       "</style>\n",
       "<table border=\"1\" class=\"dataframe\">\n",
       "  <thead>\n",
       "    <tr style=\"text-align: right;\">\n",
       "      <th></th>\n",
       "      <th>ID_StaffAssignment__c</th>\n",
       "      <th>ID_Staff__c</th>\n",
       "      <th>ID_Class__c</th>\n",
       "      <th>Role__c</th>\n",
       "      <th>StartDate__c</th>\n",
       "      <th>staffrecord_ID__c</th>\n",
       "      <th>Class Record ID</th>\n",
       "    </tr>\n",
       "  </thead>\n",
       "  <tbody>\n",
       "    <tr>\n",
       "      <th>0</th>\n",
       "      <td>1</td>\n",
       "      <td>1</td>\n",
       "      <td>1</td>\n",
       "      <td>Teacher Assistant</td>\n",
       "      <td>2020-03-16</td>\n",
       "      <td>a073h000002uHdi</td>\n",
       "      <td>a083h000000nn4Z</td>\n",
       "    </tr>\n",
       "    <tr>\n",
       "      <th>1</th>\n",
       "      <td>2</td>\n",
       "      <td>4</td>\n",
       "      <td>1</td>\n",
       "      <td>Teacher Assistant</td>\n",
       "      <td>2020-03-16</td>\n",
       "      <td>a073h000002uHdx</td>\n",
       "      <td>a083h000000nn4Z</td>\n",
       "    </tr>\n",
       "    <tr>\n",
       "      <th>2</th>\n",
       "      <td>3</td>\n",
       "      <td>3</td>\n",
       "      <td>1</td>\n",
       "      <td>Instructor</td>\n",
       "      <td>2020-03-16</td>\n",
       "      <td>a073h000002uHds</td>\n",
       "      <td>a083h000000nn4Z</td>\n",
       "    </tr>\n",
       "  </tbody>\n",
       "</table>\n",
       "</div>"
      ],
      "text/plain": [
       "   ID_StaffAssignment__c  ID_Staff__c  ID_Class__c            Role__c  \\\n",
       "0                      1            1            1  Teacher Assistant   \n",
       "1                      2            4            1  Teacher Assistant   \n",
       "2                      3            3            1         Instructor   \n",
       "\n",
       "  StartDate__c staffrecord_ID__c Class Record ID   \n",
       "0   2020-03-16   a073h000002uHdi  a083h000000nn4Z  \n",
       "1   2020-03-16   a073h000002uHdx  a083h000000nn4Z  \n",
       "2   2020-03-16   a073h000002uHds  a083h000000nn4Z  "
      ]
     },
     "execution_count": 21,
     "metadata": {},
     "output_type": "execute_result"
    }
   ],
   "source": [
    "sa_final_df= sa_merge_df.drop(columns = ['EmployeeID__c','EndDate__c','Section__c'])\n",
    "\n",
    "sa_final_df\n"
   ]
  },
  {
   "cell_type": "markdown",
   "metadata": {},
   "source": [
    "## Prep data to load - Make list of dictionaries, then load to Salesforce"
   ]
  },
  {
   "cell_type": "code",
   "execution_count": 22,
   "metadata": {},
   "outputs": [
    {
     "data": {
      "text/plain": [
       "[{'ID_StaffAssignment__c': 1,\n",
       "  'ID_Staff__c': 1,\n",
       "  'ID_Class__c': 1,\n",
       "  'Role__c': 'Teacher Assistant',\n",
       "  'StartDate__c': datetime.date(2020, 3, 16),\n",
       "  'staffrecord_ID__c': 'a073h000002uHdi',\n",
       "  'Class Record ID ': 'a083h000000nn4Z'},\n",
       " {'ID_StaffAssignment__c': 2,\n",
       "  'ID_Staff__c': 4,\n",
       "  'ID_Class__c': 1,\n",
       "  'Role__c': 'Teacher Assistant',\n",
       "  'StartDate__c': datetime.date(2020, 3, 16),\n",
       "  'staffrecord_ID__c': 'a073h000002uHdx',\n",
       "  'Class Record ID ': 'a083h000000nn4Z'},\n",
       " {'ID_StaffAssignment__c': 3,\n",
       "  'ID_Staff__c': 3,\n",
       "  'ID_Class__c': 1,\n",
       "  'Role__c': 'Instructor',\n",
       "  'StartDate__c': datetime.date(2020, 3, 16),\n",
       "  'staffrecord_ID__c': 'a073h000002uHds',\n",
       "  'Class Record ID ': 'a083h000000nn4Z'}]"
      ]
     },
     "execution_count": 22,
     "metadata": {},
     "output_type": "execute_result"
    }
   ],
   "source": [
    "sa_records = sa_final_df.to_dict('records')\n",
    "sa_records"
   ]
  },
  {
   "cell_type": "markdown",
   "metadata": {},
   "source": [
    "## Insert Data to Salesforce\n",
    "\n",
    "Loop through the DataFrame and assemble indiviudal dictionaries"
   ]
  },
  {
   "cell_type": "code",
   "execution_count": 26,
   "metadata": {},
   "outputs": [
    {
     "ename": "KeyError",
     "evalue": "'Class_Record_ID__c'",
     "output_type": "error",
     "traceback": [
      "\u001b[1;31m---------------------------------------------------------------------------\u001b[0m",
      "\u001b[1;31mKeyError\u001b[0m                                  Traceback (most recent call last)",
      "\u001b[1;32m<ipython-input-26-88b721737c5e>\u001b[0m in \u001b[0;36m<module>\u001b[1;34m\u001b[0m\n\u001b[0;32m      7\u001b[0m         \u001b[1;34m'StartDate__c'\u001b[0m\u001b[1;33m:\u001b[0m \u001b[0mstr\u001b[0m\u001b[1;33m(\u001b[0m\u001b[0mrec\u001b[0m\u001b[1;33m[\u001b[0m\u001b[1;34m'StartDate__c'\u001b[0m\u001b[1;33m]\u001b[0m\u001b[1;33m)\u001b[0m\u001b[1;33m,\u001b[0m\u001b[1;33m\u001b[0m\u001b[1;33m\u001b[0m\u001b[0m\n\u001b[0;32m      8\u001b[0m         \u001b[1;34m'staffrecord_ID__c'\u001b[0m\u001b[1;33m:\u001b[0m \u001b[0mrec\u001b[0m\u001b[1;33m[\u001b[0m\u001b[1;34m'staffrecord_ID__c'\u001b[0m\u001b[1;33m]\u001b[0m\u001b[1;33m,\u001b[0m\u001b[1;33m\u001b[0m\u001b[1;33m\u001b[0m\u001b[0m\n\u001b[1;32m----> 9\u001b[1;33m         \u001b[1;34m'Class Record ID '\u001b[0m\u001b[1;33m:\u001b[0m \u001b[0mrec\u001b[0m\u001b[1;33m[\u001b[0m\u001b[1;34m'Class_Record_ID__c'\u001b[0m \u001b[1;33m]\u001b[0m\u001b[1;33m\u001b[0m\u001b[1;33m\u001b[0m\u001b[0m\n\u001b[0m\u001b[0;32m     10\u001b[0m     }\n\u001b[0;32m     11\u001b[0m \u001b[1;33m\u001b[0m\u001b[0m\n",
      "\u001b[1;31mKeyError\u001b[0m: 'Class_Record_ID__c'"
     ]
    }
   ],
   "source": [
    "for rec in sa_records:\n",
    " \n",
    "    record = {\n",
    "        'ID_StaffAssignment__c': rec['ID_StaffAssignment__c'],\n",
    "        'ID_Staff__c': rec['ID_Staff__c'],\n",
    "        'Role__c': rec['Role__c'],\n",
    "        'StartDate__c': str(rec['StartDate__c']),\n",
    "        'staffrecord_ID__c': rec['staffrecord_ID__c'],\n",
    "        'Class Record ID ': rec['Class_Record_ID__c' ]\n",
    "    }\n",
    "    \n",
    "    try:\n",
    "        sf.staffassignment__c.create(record)\n",
    "    except Exception as e:\n",
    "        print(e)"
   ]
  },
  {
   "cell_type": "markdown",
   "metadata": {},
   "source": [
    "## Example of inserting rows in bulk"
   ]
  },
  {
   "cell_type": "code",
   "execution_count": null,
   "metadata": {},
   "outputs": [],
   "source": [
    "try:\n",
    "    sf.bulk.Lead.insert(student_load)\n",
    "except Exception as e:\n",
    "    print(e)"
   ]
  }
 ],
 "metadata": {
  "kernelspec": {
   "display_name": "Python 3",
   "language": "python",
   "name": "python3"
  },
  "language_info": {
   "codemirror_mode": {
    "name": "ipython",
    "version": 3
   },
   "file_extension": ".py",
   "mimetype": "text/x-python",
   "name": "python",
   "nbconvert_exporter": "python",
   "pygments_lexer": "ipython3",
   "version": "3.7.6"
  }
 },
 "nbformat": 4,
 "nbformat_minor": 2
}
