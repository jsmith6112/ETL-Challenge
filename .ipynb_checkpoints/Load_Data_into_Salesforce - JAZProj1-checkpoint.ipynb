{
 "cells": [
  {
   "cell_type": "markdown",
   "metadata": {},
   "source": [
    "## Install `simple_salesforce`  module\n",
    "\n",
    "Remove the comment symbol (#) to run `!pip install simple_salesforce`. Once this module is installed, you can comment it out again. "
   ]
  },
  {
   "cell_type": "code",
   "execution_count": 1,
   "metadata": {},
   "outputs": [],
   "source": [
    "#!pip install simple_salesforce"
   ]
  },
  {
   "cell_type": "markdown",
   "metadata": {},
   "source": [
    "## Import dependencies"
   ]
  },
  {
   "cell_type": "code",
   "execution_count": 2,
   "metadata": {},
   "outputs": [],
   "source": [
    "import json\n",
    "from sqlalchemy import create_engine\n",
    "import pandas as pd\n",
    "import pymysql\n",
    "from datetime import date\n",
    "pymysql.install_as_MySQLdb()"
   ]
  },
  {
   "cell_type": "markdown",
   "metadata": {},
   "source": [
    "## Import configuration variables"
   ]
  },
  {
   "cell_type": "code",
   "execution_count": 3,
   "metadata": {},
   "outputs": [],
   "source": [
    "# import sys\n",
    "# sys.path.append('../../../../')\n",
    "from config import sf_username, sf_password, sf_security_token\n",
    "from config import remote_db_endpoint, remote_db_port\n",
    "from config import remote_db_name, remote_db_user, remote_db_pwd"
   ]
  },
  {
   "cell_type": "markdown",
   "metadata": {},
   "source": [
    "## Set up `simple_salesforce`\n",
    "\n",
    "Pass in the username, password, and security token here. The security token contains information about your org."
   ]
  },
  {
   "cell_type": "code",
   "execution_count": 4,
   "metadata": {},
   "outputs": [],
   "source": [
    "from simple_salesforce import Salesforce\n",
    "sf = Salesforce(username=sf_username, password=sf_password, security_token=sf_security_token)"
   ]
  },
  {
   "cell_type": "markdown",
   "metadata": {},
   "source": [
    "## Connect to your MySQL database"
   ]
  },
  {
   "cell_type": "code",
   "execution_count": 5,
   "metadata": {},
   "outputs": [],
   "source": [
    "engine = create_engine(f\"mysql://{remote_db_user}:{remote_db_pwd}@{remote_db_endpoint}:{remote_db_port}/{remote_db_name}\")\n",
    "conn = engine.connect()"
   ]
  },
  {
   "cell_type": "markdown",
   "metadata": {},
   "source": [
    "## Query Data"
   ]
  },
  {
   "cell_type": "code",
   "execution_count": 6,
   "metadata": {},
   "outputs": [
    {
     "data": {
      "text/html": [
       "<div>\n",
       "<style scoped>\n",
       "    .dataframe tbody tr th:only-of-type {\n",
       "        vertical-align: middle;\n",
       "    }\n",
       "\n",
       "    .dataframe tbody tr th {\n",
       "        vertical-align: top;\n",
       "    }\n",
       "\n",
       "    .dataframe thead th {\n",
       "        text-align: right;\n",
       "    }\n",
       "</style>\n",
       "<table border=\"1\" class=\"dataframe\">\n",
       "  <thead>\n",
       "    <tr style=\"text-align: right;\">\n",
       "      <th></th>\n",
       "      <th>ID_Course</th>\n",
       "      <th>CourseCode</th>\n",
       "      <th>CourseName</th>\n",
       "      <th>CreditHours</th>\n",
       "      <th>BootCampCourse</th>\n",
       "    </tr>\n",
       "  </thead>\n",
       "  <tbody>\n",
       "    <tr>\n",
       "      <th>0</th>\n",
       "      <td>1</td>\n",
       "      <td>BC-DATAVIZ</td>\n",
       "      <td>Data Visualization and Analytics</td>\n",
       "      <td>12</td>\n",
       "      <td>1</td>\n",
       "    </tr>\n",
       "    <tr>\n",
       "      <th>1</th>\n",
       "      <td>2</td>\n",
       "      <td>BC-WEBDEV</td>\n",
       "      <td>Full Stack Web Development</td>\n",
       "      <td>12</td>\n",
       "      <td>1</td>\n",
       "    </tr>\n",
       "    <tr>\n",
       "      <th>2</th>\n",
       "      <td>3</td>\n",
       "      <td>BC-UIUX</td>\n",
       "      <td>User Interface/User Experience</td>\n",
       "      <td>12</td>\n",
       "      <td>1</td>\n",
       "    </tr>\n",
       "    <tr>\n",
       "      <th>3</th>\n",
       "      <td>4</td>\n",
       "      <td>CIS-349</td>\n",
       "      <td>Introduction to Databases</td>\n",
       "      <td>5</td>\n",
       "      <td>0</td>\n",
       "    </tr>\n",
       "    <tr>\n",
       "      <th>4</th>\n",
       "      <td>5</td>\n",
       "      <td>CIS-405</td>\n",
       "      <td>Database Programming</td>\n",
       "      <td>5</td>\n",
       "      <td>0</td>\n",
       "    </tr>\n",
       "    <tr>\n",
       "      <th>5</th>\n",
       "      <td>6</td>\n",
       "      <td>CIS-438</td>\n",
       "      <td>Database Administration</td>\n",
       "      <td>5</td>\n",
       "      <td>0</td>\n",
       "    </tr>\n",
       "    <tr>\n",
       "      <th>6</th>\n",
       "      <td>7</td>\n",
       "      <td>CIS-430</td>\n",
       "      <td>Business Systems Programming I</td>\n",
       "      <td>5</td>\n",
       "      <td>0</td>\n",
       "    </tr>\n",
       "    <tr>\n",
       "      <th>7</th>\n",
       "      <td>8</td>\n",
       "      <td>CIS-435</td>\n",
       "      <td>Business Systems Programming II</td>\n",
       "      <td>5</td>\n",
       "      <td>0</td>\n",
       "    </tr>\n",
       "  </tbody>\n",
       "</table>\n",
       "</div>"
      ],
      "text/plain": [
       "   ID_Course  CourseCode                        CourseName  CreditHours  \\\n",
       "0          1  BC-DATAVIZ  Data Visualization and Analytics           12   \n",
       "1          2   BC-WEBDEV        Full Stack Web Development           12   \n",
       "2          3     BC-UIUX    User Interface/User Experience           12   \n",
       "3          4     CIS-349         Introduction to Databases            5   \n",
       "4          5     CIS-405              Database Programming            5   \n",
       "5          6     CIS-438           Database Administration            5   \n",
       "6          7     CIS-430    Business Systems Programming I            5   \n",
       "7          8     CIS-435   Business Systems Programming II            5   \n",
       "\n",
       "   BootCampCourse  \n",
       "0               1  \n",
       "1               1  \n",
       "2               1  \n",
       "3               0  \n",
       "4               0  \n",
       "5               0  \n",
       "6               0  \n",
       "7               0  "
      ]
     },
     "execution_count": 6,
     "metadata": {},
     "output_type": "execute_result"
    }
   ],
   "source": [
    "course_data = pd.read_sql(\"SELECT * FROM course\", conn)\n",
    "course_data.head(30)"
   ]
  },
  {
   "cell_type": "markdown",
   "metadata": {},
   "source": [
    "## Transform Data"
   ]
  },
  {
   "cell_type": "code",
   "execution_count": 7,
   "metadata": {},
   "outputs": [
    {
     "data": {
      "text/html": [
       "<div>\n",
       "<style scoped>\n",
       "    .dataframe tbody tr th:only-of-type {\n",
       "        vertical-align: middle;\n",
       "    }\n",
       "\n",
       "    .dataframe tbody tr th {\n",
       "        vertical-align: top;\n",
       "    }\n",
       "\n",
       "    .dataframe thead th {\n",
       "        text-align: right;\n",
       "    }\n",
       "</style>\n",
       "<table border=\"1\" class=\"dataframe\">\n",
       "  <thead>\n",
       "    <tr style=\"text-align: right;\">\n",
       "      <th></th>\n",
       "      <th>ID_Course__c</th>\n",
       "      <th>CourseCode__c</th>\n",
       "      <th>CourseName__c</th>\n",
       "      <th>CreditHours__c</th>\n",
       "      <th>BootCampCourse__c</th>\n",
       "    </tr>\n",
       "  </thead>\n",
       "  <tbody>\n",
       "    <tr>\n",
       "      <th>0</th>\n",
       "      <td>1</td>\n",
       "      <td>BC-DATAVIZ</td>\n",
       "      <td>Data Visualization and Analytics</td>\n",
       "      <td>12</td>\n",
       "      <td>1</td>\n",
       "    </tr>\n",
       "    <tr>\n",
       "      <th>1</th>\n",
       "      <td>2</td>\n",
       "      <td>BC-WEBDEV</td>\n",
       "      <td>Full Stack Web Development</td>\n",
       "      <td>12</td>\n",
       "      <td>1</td>\n",
       "    </tr>\n",
       "    <tr>\n",
       "      <th>2</th>\n",
       "      <td>3</td>\n",
       "      <td>BC-UIUX</td>\n",
       "      <td>User Interface/User Experience</td>\n",
       "      <td>12</td>\n",
       "      <td>1</td>\n",
       "    </tr>\n",
       "    <tr>\n",
       "      <th>3</th>\n",
       "      <td>4</td>\n",
       "      <td>CIS-349</td>\n",
       "      <td>Introduction to Databases</td>\n",
       "      <td>5</td>\n",
       "      <td>0</td>\n",
       "    </tr>\n",
       "    <tr>\n",
       "      <th>4</th>\n",
       "      <td>5</td>\n",
       "      <td>CIS-405</td>\n",
       "      <td>Database Programming</td>\n",
       "      <td>5</td>\n",
       "      <td>0</td>\n",
       "    </tr>\n",
       "    <tr>\n",
       "      <th>5</th>\n",
       "      <td>6</td>\n",
       "      <td>CIS-438</td>\n",
       "      <td>Database Administration</td>\n",
       "      <td>5</td>\n",
       "      <td>0</td>\n",
       "    </tr>\n",
       "    <tr>\n",
       "      <th>6</th>\n",
       "      <td>7</td>\n",
       "      <td>CIS-430</td>\n",
       "      <td>Business Systems Programming I</td>\n",
       "      <td>5</td>\n",
       "      <td>0</td>\n",
       "    </tr>\n",
       "    <tr>\n",
       "      <th>7</th>\n",
       "      <td>8</td>\n",
       "      <td>CIS-435</td>\n",
       "      <td>Business Systems Programming II</td>\n",
       "      <td>5</td>\n",
       "      <td>0</td>\n",
       "    </tr>\n",
       "  </tbody>\n",
       "</table>\n",
       "</div>"
      ],
      "text/plain": [
       "   ID_Course__c CourseCode__c                     CourseName__c  \\\n",
       "0             1    BC-DATAVIZ  Data Visualization and Analytics   \n",
       "1             2     BC-WEBDEV        Full Stack Web Development   \n",
       "2             3       BC-UIUX    User Interface/User Experience   \n",
       "3             4       CIS-349         Introduction to Databases   \n",
       "4             5       CIS-405              Database Programming   \n",
       "5             6       CIS-438           Database Administration   \n",
       "6             7       CIS-430    Business Systems Programming I   \n",
       "7             8       CIS-435   Business Systems Programming II   \n",
       "\n",
       "   CreditHours__c  BootCampCourse__c  \n",
       "0              12                  1  \n",
       "1              12                  1  \n",
       "2              12                  1  \n",
       "3               5                  0  \n",
       "4               5                  0  \n",
       "5               5                  0  \n",
       "6               5                  0  \n",
       "7               5                  0  "
      ]
     },
     "execution_count": 7,
     "metadata": {},
     "output_type": "execute_result"
    }
   ],
   "source": [
    "course_data = course_data.rename(columns={'CourseCode':'CourseCode__c',\n",
    "                                          'CourseName':'CourseName__c',\n",
    "                                          'CreditHours':'CreditHours__c',\n",
    "                                          'BootCampCourse':'BootCampCourse__c',\n",
    "                                          'ID_Course':'ID_Course__c'\n",
    "                                         })\n",
    "course_data"
   ]
  },
  {
   "cell_type": "markdown",
   "metadata": {},
   "source": [
    "## Convert DataFrame to a list of dictionaries \n",
    "\n",
    "This can help facilitate a bulk insert"
   ]
  },
  {
   "cell_type": "code",
   "execution_count": 9,
   "metadata": {},
   "outputs": [
    {
     "data": {
      "text/plain": [
       "[{'ID_Course__c': 1,\n",
       "  'CourseCode__c': 'BC-DATAVIZ',\n",
       "  'CourseName__c': 'Data Visualization and Analytics',\n",
       "  'CreditHours__c': 12,\n",
       "  'BootCampCourse__c': 1},\n",
       " {'ID_Course__c': 2,\n",
       "  'CourseCode__c': 'BC-WEBDEV',\n",
       "  'CourseName__c': 'Full Stack Web Development',\n",
       "  'CreditHours__c': 12,\n",
       "  'BootCampCourse__c': 1},\n",
       " {'ID_Course__c': 3,\n",
       "  'CourseCode__c': 'BC-UIUX',\n",
       "  'CourseName__c': 'User Interface/User Experience',\n",
       "  'CreditHours__c': 12,\n",
       "  'BootCampCourse__c': 1},\n",
       " {'ID_Course__c': 4,\n",
       "  'CourseCode__c': 'CIS-349',\n",
       "  'CourseName__c': 'Introduction to Databases',\n",
       "  'CreditHours__c': 5,\n",
       "  'BootCampCourse__c': 0},\n",
       " {'ID_Course__c': 5,\n",
       "  'CourseCode__c': 'CIS-405',\n",
       "  'CourseName__c': 'Database Programming',\n",
       "  'CreditHours__c': 5,\n",
       "  'BootCampCourse__c': 0},\n",
       " {'ID_Course__c': 6,\n",
       "  'CourseCode__c': 'CIS-438',\n",
       "  'CourseName__c': 'Database Administration',\n",
       "  'CreditHours__c': 5,\n",
       "  'BootCampCourse__c': 0},\n",
       " {'ID_Course__c': 7,\n",
       "  'CourseCode__c': 'CIS-430',\n",
       "  'CourseName__c': 'Business Systems Programming I',\n",
       "  'CreditHours__c': 5,\n",
       "  'BootCampCourse__c': 0},\n",
       " {'ID_Course__c': 8,\n",
       "  'CourseCode__c': 'CIS-435',\n",
       "  'CourseName__c': 'Business Systems Programming II',\n",
       "  'CreditHours__c': 5,\n",
       "  'BootCampCourse__c': 0}]"
      ]
     },
     "execution_count": 9,
     "metadata": {},
     "output_type": "execute_result"
    }
   ],
   "source": [
    "course_data_records = course_data.to_dict('records')\n",
    "course_data_records"
   ]
  },
  {
   "cell_type": "markdown",
   "metadata": {},
   "source": [
    "## Insert records to Course table"
   ]
  },
  {
   "cell_type": "code",
   "execution_count": null,
   "metadata": {},
   "outputs": [],
   "source": [
    "for rec in course_data_records:\n",
    "\n",
    "    record = {\n",
    "        'ID_Course__c': rec['ID_Course__c'],\n",
    "        'CourseCode__c': rec['CourseCode__c'],\n",
    "        'CourseName__c': rec['CourseName__c'],\n",
    "        'CreditHours__c': rec['CreditHours__c'],\n",
    "        'BootCampCourse__c': rec['BootCampCourse__c'],\n",
    "    }\n",
    "    \n",
    "    try:\n",
    "        sf.Course__C.create(record)\n",
    "    except Exception as e:\n",
    "        print(e)"
   ]
  },
  {
   "cell_type": "markdown",
   "metadata": {},
   "source": [
    "## Create Course Lookup Table\n",
    "Use this later to crosswalk the course code with the primary key from the `Course` table\n",
    "\n",
    "The query **Salesforce** to retrieve the record IDs "
   ]
  },
  {
   "cell_type": "code",
   "execution_count": 14,
   "metadata": {},
   "outputs": [
    {
     "data": {
      "text/plain": [
       "[{'Course_record_ID__c': 'a043h00000Lm9hw', 'ID_Course__c': 4.0},\n",
       " {'Course_record_ID__c': 'a043h00000Lm9hr', 'ID_Course__c': 3.0},\n",
       " {'Course_record_ID__c': 'a043h00000Lm9i6', 'ID_Course__c': 6.0},\n",
       " {'Course_record_ID__c': 'a043h00000Lm9hm', 'ID_Course__c': 2.0},\n",
       " {'Course_record_ID__c': 'a043h00000Lm9i1', 'ID_Course__c': 5.0},\n",
       " {'Course_record_ID__c': 'a043h00000Lm9iG', 'ID_Course__c': 8.0},\n",
       " {'Course_record_ID__c': 'a043h00000Lm9hh', 'ID_Course__c': 1.0},\n",
       " {'Course_record_ID__c': 'a043h00000Lm9iB', 'ID_Course__c': 7.0}]"
      ]
     },
     "execution_count": 14,
     "metadata": {},
     "output_type": "execute_result"
    }
   ],
   "source": [
    "course_lookup_list = []\n",
    "\n",
    "# The `Name` column in the primary key in Salesforce objects\n",
    "# The Salesforce query language is called SOQL \n",
    "data = sf.query_all_iter(\"SELECT ID_Course__c, Name FROM course__c\")\n",
    "for row in data:\n",
    "    rec = {\n",
    "        'Course_record_ID__c': row['Name'], # this is a critical line of code\n",
    "        'ID_Course__c': row['ID_Course__c']\n",
    "    }\n",
    "    course_lookup_list.append(rec)\n",
    "    \n",
    "course_lookup_list"
   ]
  },
  {
   "cell_type": "code",
   "execution_count": 15,
   "metadata": {},
   "outputs": [
    {
     "data": {
      "text/html": [
       "<div>\n",
       "<style scoped>\n",
       "    .dataframe tbody tr th:only-of-type {\n",
       "        vertical-align: middle;\n",
       "    }\n",
       "\n",
       "    .dataframe tbody tr th {\n",
       "        vertical-align: top;\n",
       "    }\n",
       "\n",
       "    .dataframe thead th {\n",
       "        text-align: right;\n",
       "    }\n",
       "</style>\n",
       "<table border=\"1\" class=\"dataframe\">\n",
       "  <thead>\n",
       "    <tr style=\"text-align: right;\">\n",
       "      <th></th>\n",
       "      <th>Course_record_ID__c</th>\n",
       "      <th>ID_Course__c</th>\n",
       "    </tr>\n",
       "  </thead>\n",
       "  <tbody>\n",
       "    <tr>\n",
       "      <th>0</th>\n",
       "      <td>a043h00000Lm9hw</td>\n",
       "      <td>4.0</td>\n",
       "    </tr>\n",
       "    <tr>\n",
       "      <th>1</th>\n",
       "      <td>a043h00000Lm9hr</td>\n",
       "      <td>3.0</td>\n",
       "    </tr>\n",
       "    <tr>\n",
       "      <th>2</th>\n",
       "      <td>a043h00000Lm9i6</td>\n",
       "      <td>6.0</td>\n",
       "    </tr>\n",
       "    <tr>\n",
       "      <th>3</th>\n",
       "      <td>a043h00000Lm9hm</td>\n",
       "      <td>2.0</td>\n",
       "    </tr>\n",
       "    <tr>\n",
       "      <th>4</th>\n",
       "      <td>a043h00000Lm9i1</td>\n",
       "      <td>5.0</td>\n",
       "    </tr>\n",
       "    <tr>\n",
       "      <th>5</th>\n",
       "      <td>a043h00000Lm9iG</td>\n",
       "      <td>8.0</td>\n",
       "    </tr>\n",
       "    <tr>\n",
       "      <th>6</th>\n",
       "      <td>a043h00000Lm9hh</td>\n",
       "      <td>1.0</td>\n",
       "    </tr>\n",
       "    <tr>\n",
       "      <th>7</th>\n",
       "      <td>a043h00000Lm9iB</td>\n",
       "      <td>7.0</td>\n",
       "    </tr>\n",
       "  </tbody>\n",
       "</table>\n",
       "</div>"
      ],
      "text/plain": [
       "  Course_record_ID__c  ID_Course__c\n",
       "0     a043h00000Lm9hw           4.0\n",
       "1     a043h00000Lm9hr           3.0\n",
       "2     a043h00000Lm9i6           6.0\n",
       "3     a043h00000Lm9hm           2.0\n",
       "4     a043h00000Lm9i1           5.0\n",
       "5     a043h00000Lm9iG           8.0\n",
       "6     a043h00000Lm9hh           1.0\n",
       "7     a043h00000Lm9iB           7.0"
      ]
     },
     "execution_count": 15,
     "metadata": {},
     "output_type": "execute_result"
    }
   ],
   "source": [
    "course_lookup_df = pd.DataFrame(course_lookup_list)\n",
    "course_lookup_df"
   ]
  },
  {
   "cell_type": "code",
   "execution_count": 16,
   "metadata": {},
   "outputs": [
    {
     "data": {
      "text/html": [
       "<div>\n",
       "<style scoped>\n",
       "    .dataframe tbody tr th:only-of-type {\n",
       "        vertical-align: middle;\n",
       "    }\n",
       "\n",
       "    .dataframe tbody tr th {\n",
       "        vertical-align: top;\n",
       "    }\n",
       "\n",
       "    .dataframe thead th {\n",
       "        text-align: right;\n",
       "    }\n",
       "</style>\n",
       "<table border=\"1\" class=\"dataframe\">\n",
       "  <thead>\n",
       "    <tr style=\"text-align: right;\">\n",
       "      <th></th>\n",
       "      <th>ID_Class</th>\n",
       "      <th>ID_Course</th>\n",
       "      <th>Section</th>\n",
       "      <th>StartDate</th>\n",
       "      <th>EndDate</th>\n",
       "    </tr>\n",
       "  </thead>\n",
       "  <tbody>\n",
       "    <tr>\n",
       "      <th>0</th>\n",
       "      <td>1</td>\n",
       "      <td>1</td>\n",
       "      <td>GWU-ARL-DATA-PT-09-0</td>\n",
       "      <td>2020-03-16</td>\n",
       "      <td>2020-03-14</td>\n",
       "    </tr>\n",
       "    <tr>\n",
       "      <th>1</th>\n",
       "      <td>2</td>\n",
       "      <td>1</td>\n",
       "      <td>GWDC201805DATA3</td>\n",
       "      <td>2018-05-15</td>\n",
       "      <td>2018-11-08</td>\n",
       "    </tr>\n",
       "    <tr>\n",
       "      <th>2</th>\n",
       "      <td>3</td>\n",
       "      <td>2</td>\n",
       "      <td>GWARL201905WEB3</td>\n",
       "      <td>2019-05-14</td>\n",
       "      <td>2019-11-07</td>\n",
       "    </tr>\n",
       "    <tr>\n",
       "      <th>3</th>\n",
       "      <td>4</td>\n",
       "      <td>3</td>\n",
       "      <td>GWARL201905UIUX3</td>\n",
       "      <td>2019-05-14</td>\n",
       "      <td>2019-11-07</td>\n",
       "    </tr>\n",
       "  </tbody>\n",
       "</table>\n",
       "</div>"
      ],
      "text/plain": [
       "   ID_Class  ID_Course               Section   StartDate     EndDate\n",
       "0         1          1  GWU-ARL-DATA-PT-09-0  2020-03-16  2020-03-14\n",
       "1         2          1       GWDC201805DATA3  2018-05-15  2018-11-08\n",
       "2         3          2       GWARL201905WEB3  2019-05-14  2019-11-07\n",
       "3         4          3      GWARL201905UIUX3  2019-05-14  2019-11-07"
      ]
     },
     "execution_count": 16,
     "metadata": {},
     "output_type": "execute_result"
    }
   ],
   "source": [
    "# Query class from MySQL database & add course_record_id\n",
    "class_data_df = pd.read_sql('SELECT * FROM class', conn)\n",
    "class_data_df.head()"
   ]
  },
  {
   "cell_type": "code",
   "execution_count": 18,
   "metadata": {},
   "outputs": [
    {
     "data": {
      "text/html": [
       "<div>\n",
       "<style scoped>\n",
       "    .dataframe tbody tr th:only-of-type {\n",
       "        vertical-align: middle;\n",
       "    }\n",
       "\n",
       "    .dataframe tbody tr th {\n",
       "        vertical-align: top;\n",
       "    }\n",
       "\n",
       "    .dataframe thead th {\n",
       "        text-align: right;\n",
       "    }\n",
       "</style>\n",
       "<table border=\"1\" class=\"dataframe\">\n",
       "  <thead>\n",
       "    <tr style=\"text-align: right;\">\n",
       "      <th></th>\n",
       "      <th>ID_Class__c</th>\n",
       "      <th>ID_Course__c</th>\n",
       "      <th>Section__c</th>\n",
       "      <th>Start_Date__c</th>\n",
       "      <th>End_Date__c</th>\n",
       "    </tr>\n",
       "  </thead>\n",
       "  <tbody>\n",
       "    <tr>\n",
       "      <th>0</th>\n",
       "      <td>1</td>\n",
       "      <td>1</td>\n",
       "      <td>GWU-ARL-DATA-PT-09-0</td>\n",
       "      <td>2020-03-16</td>\n",
       "      <td>2020-03-14</td>\n",
       "    </tr>\n",
       "    <tr>\n",
       "      <th>1</th>\n",
       "      <td>2</td>\n",
       "      <td>1</td>\n",
       "      <td>GWDC201805DATA3</td>\n",
       "      <td>2018-05-15</td>\n",
       "      <td>2018-11-08</td>\n",
       "    </tr>\n",
       "    <tr>\n",
       "      <th>2</th>\n",
       "      <td>3</td>\n",
       "      <td>2</td>\n",
       "      <td>GWARL201905WEB3</td>\n",
       "      <td>2019-05-14</td>\n",
       "      <td>2019-11-07</td>\n",
       "    </tr>\n",
       "    <tr>\n",
       "      <th>3</th>\n",
       "      <td>4</td>\n",
       "      <td>3</td>\n",
       "      <td>GWARL201905UIUX3</td>\n",
       "      <td>2019-05-14</td>\n",
       "      <td>2019-11-07</td>\n",
       "    </tr>\n",
       "  </tbody>\n",
       "</table>\n",
       "</div>"
      ],
      "text/plain": [
       "   ID_Class__c  ID_Course__c            Section__c Start_Date__c End_Date__c\n",
       "0            1             1  GWU-ARL-DATA-PT-09-0    2020-03-16  2020-03-14\n",
       "1            2             1       GWDC201805DATA3    2018-05-15  2018-11-08\n",
       "2            3             2       GWARL201905WEB3    2019-05-14  2019-11-07\n",
       "3            4             3      GWARL201905UIUX3    2019-05-14  2019-11-07"
      ]
     },
     "execution_count": 18,
     "metadata": {},
     "output_type": "execute_result"
    }
   ],
   "source": [
    "# Rename cells\n",
    "\n",
    "\n",
    "class_data_df.rename(columns={\n",
    "    'ID_Class':'ID_Class__c',\n",
    "    'ID_Course':'ID_Course__c',\n",
    "    'Section':'Section__c',\n",
    "    'StartDate':'StartDate__c',\n",
    "    'EndDate':'EndDate__c',\n",
    "    'CourseCode':'CourseCode__c'\n",
    "}, inplace=True)\n",
    "\n",
    "class_data_df"
   ]
  },
  {
   "cell_type": "markdown",
   "metadata": {},
   "source": [
    "## Join the Class DataFrame with the Course lookup table¶\n",
    "This join is necessary to successfully lookup the foreign key for the Course table"
   ]
  },
  {
   "cell_type": "code",
   "execution_count": 20,
   "metadata": {},
   "outputs": [
    {
     "data": {
      "text/html": [
       "<div>\n",
       "<style scoped>\n",
       "    .dataframe tbody tr th:only-of-type {\n",
       "        vertical-align: middle;\n",
       "    }\n",
       "\n",
       "    .dataframe tbody tr th {\n",
       "        vertical-align: top;\n",
       "    }\n",
       "\n",
       "    .dataframe thead th {\n",
       "        text-align: right;\n",
       "    }\n",
       "</style>\n",
       "<table border=\"1\" class=\"dataframe\">\n",
       "  <thead>\n",
       "    <tr style=\"text-align: right;\">\n",
       "      <th></th>\n",
       "      <th>ID_Class__c</th>\n",
       "      <th>ID_Course__c</th>\n",
       "      <th>Section__c</th>\n",
       "      <th>Start_Date__c</th>\n",
       "      <th>End_Date__c</th>\n",
       "      <th>Course_record_ID__c</th>\n",
       "    </tr>\n",
       "  </thead>\n",
       "  <tbody>\n",
       "    <tr>\n",
       "      <th>0</th>\n",
       "      <td>1</td>\n",
       "      <td>1</td>\n",
       "      <td>GWU-ARL-DATA-PT-09-0</td>\n",
       "      <td>2020-03-16</td>\n",
       "      <td>2020-03-14</td>\n",
       "      <td>a043h00000Lm9hh</td>\n",
       "    </tr>\n",
       "    <tr>\n",
       "      <th>1</th>\n",
       "      <td>2</td>\n",
       "      <td>1</td>\n",
       "      <td>GWDC201805DATA3</td>\n",
       "      <td>2018-05-15</td>\n",
       "      <td>2018-11-08</td>\n",
       "      <td>a043h00000Lm9hh</td>\n",
       "    </tr>\n",
       "    <tr>\n",
       "      <th>2</th>\n",
       "      <td>3</td>\n",
       "      <td>2</td>\n",
       "      <td>GWARL201905WEB3</td>\n",
       "      <td>2019-05-14</td>\n",
       "      <td>2019-11-07</td>\n",
       "      <td>a043h00000Lm9hm</td>\n",
       "    </tr>\n",
       "    <tr>\n",
       "      <th>3</th>\n",
       "      <td>4</td>\n",
       "      <td>3</td>\n",
       "      <td>GWARL201905UIUX3</td>\n",
       "      <td>2019-05-14</td>\n",
       "      <td>2019-11-07</td>\n",
       "      <td>a043h00000Lm9hr</td>\n",
       "    </tr>\n",
       "  </tbody>\n",
       "</table>\n",
       "</div>"
      ],
      "text/plain": [
       "   ID_Class__c  ID_Course__c            Section__c Start_Date__c End_Date__c  \\\n",
       "0            1             1  GWU-ARL-DATA-PT-09-0    2020-03-16  2020-03-14   \n",
       "1            2             1       GWDC201805DATA3    2018-05-15  2018-11-08   \n",
       "2            3             2       GWARL201905WEB3    2019-05-14  2019-11-07   \n",
       "3            4             3      GWARL201905UIUX3    2019-05-14  2019-11-07   \n",
       "\n",
       "  Course_record_ID__c  \n",
       "0     a043h00000Lm9hh  \n",
       "1     a043h00000Lm9hh  \n",
       "2     a043h00000Lm9hm  \n",
       "3     a043h00000Lm9hr  "
      ]
     },
     "execution_count": 20,
     "metadata": {},
     "output_type": "execute_result"
    }
   ],
   "source": [
    "class_data_df = pd.merge(class_data_df, course_lookup_df, how='left')\n",
    "#class_data_df.drop(columns = ['ID_Class','ID_Course','CourseName','CreditHours','BootCampCourse','Course_Code__c'], inplace=True)\n",
    "\n",
    "class_data_df.head()"
   ]
  },
  {
   "cell_type": "code",
   "execution_count": 21,
   "metadata": {},
   "outputs": [
    {
     "data": {
      "text/html": [
       "<div>\n",
       "<style scoped>\n",
       "    .dataframe tbody tr th:only-of-type {\n",
       "        vertical-align: middle;\n",
       "    }\n",
       "\n",
       "    .dataframe tbody tr th {\n",
       "        vertical-align: top;\n",
       "    }\n",
       "\n",
       "    .dataframe thead th {\n",
       "        text-align: right;\n",
       "    }\n",
       "</style>\n",
       "<table border=\"1\" class=\"dataframe\">\n",
       "  <thead>\n",
       "    <tr style=\"text-align: right;\">\n",
       "      <th></th>\n",
       "      <th>ID_Class__c</th>\n",
       "      <th>ID_Course__c</th>\n",
       "      <th>Section__c</th>\n",
       "      <th>Start_Date__c</th>\n",
       "      <th>End_Date__c</th>\n",
       "      <th>Course_record_ID__c</th>\n",
       "    </tr>\n",
       "  </thead>\n",
       "  <tbody>\n",
       "    <tr>\n",
       "      <th>0</th>\n",
       "      <td>1</td>\n",
       "      <td>1</td>\n",
       "      <td>GWU-ARL-DATA-PT-09-0</td>\n",
       "      <td>2020-03-16</td>\n",
       "      <td>2020-03-14</td>\n",
       "      <td>a043h00000Lm9hh</td>\n",
       "    </tr>\n",
       "    <tr>\n",
       "      <th>1</th>\n",
       "      <td>2</td>\n",
       "      <td>1</td>\n",
       "      <td>GWDC201805DATA3</td>\n",
       "      <td>2018-05-15</td>\n",
       "      <td>2018-11-08</td>\n",
       "      <td>a043h00000Lm9hh</td>\n",
       "    </tr>\n",
       "    <tr>\n",
       "      <th>2</th>\n",
       "      <td>3</td>\n",
       "      <td>2</td>\n",
       "      <td>GWARL201905WEB3</td>\n",
       "      <td>2019-05-14</td>\n",
       "      <td>2019-11-07</td>\n",
       "      <td>a043h00000Lm9hm</td>\n",
       "    </tr>\n",
       "    <tr>\n",
       "      <th>3</th>\n",
       "      <td>4</td>\n",
       "      <td>3</td>\n",
       "      <td>GWARL201905UIUX3</td>\n",
       "      <td>2019-05-14</td>\n",
       "      <td>2019-11-07</td>\n",
       "      <td>a043h00000Lm9hr</td>\n",
       "    </tr>\n",
       "  </tbody>\n",
       "</table>\n",
       "</div>"
      ],
      "text/plain": [
       "   ID_Class__c  ID_Course__c            Section__c Start_Date__c End_Date__c  \\\n",
       "0            1             1  GWU-ARL-DATA-PT-09-0    2020-03-16  2020-03-14   \n",
       "1            2             1       GWDC201805DATA3    2018-05-15  2018-11-08   \n",
       "2            3             2       GWARL201905WEB3    2019-05-14  2019-11-07   \n",
       "3            4             3      GWARL201905UIUX3    2019-05-14  2019-11-07   \n",
       "\n",
       "  Course_record_ID__c  \n",
       "0     a043h00000Lm9hh  \n",
       "1     a043h00000Lm9hh  \n",
       "2     a043h00000Lm9hm  \n",
       "3     a043h00000Lm9hr  "
      ]
     },
     "execution_count": 21,
     "metadata": {},
     "output_type": "execute_result"
    }
   ],
   "source": [
    "class_data_df\n",
    "class_data_df['Start_Date__c'] = pd.to_datetime(class_data_df['Start_Date__c']).dt.date\n",
    "class_data_df['End_Date__c'] = pd.to_datetime(class_data_df['End_Date__c']).dt.date\n",
    "\n",
    "class_data_df.head()\n"
   ]
  },
  {
   "cell_type": "code",
   "execution_count": 22,
   "metadata": {},
   "outputs": [
    {
     "data": {
      "text/plain": [
       "[{'ID_Class__c': 1,\n",
       "  'ID_Course__c': 1,\n",
       "  'Section__c': 'GWU-ARL-DATA-PT-09-0',\n",
       "  'Start_Date__c': datetime.date(2020, 3, 16),\n",
       "  'End_Date__c': datetime.date(2020, 3, 14),\n",
       "  'Course_record_ID__c': 'a043h00000Lm9hh'},\n",
       " {'ID_Class__c': 2,\n",
       "  'ID_Course__c': 1,\n",
       "  'Section__c': 'GWDC201805DATA3',\n",
       "  'Start_Date__c': datetime.date(2018, 5, 15),\n",
       "  'End_Date__c': datetime.date(2018, 11, 8),\n",
       "  'Course_record_ID__c': 'a043h00000Lm9hh'},\n",
       " {'ID_Class__c': 3,\n",
       "  'ID_Course__c': 2,\n",
       "  'Section__c': 'GWARL201905WEB3',\n",
       "  'Start_Date__c': datetime.date(2019, 5, 14),\n",
       "  'End_Date__c': datetime.date(2019, 11, 7),\n",
       "  'Course_record_ID__c': 'a043h00000Lm9hm'},\n",
       " {'ID_Class__c': 4,\n",
       "  'ID_Course__c': 3,\n",
       "  'Section__c': 'GWARL201905UIUX3',\n",
       "  'Start_Date__c': datetime.date(2019, 5, 14),\n",
       "  'End_Date__c': datetime.date(2019, 11, 7),\n",
       "  'Course_record_ID__c': 'a043h00000Lm9hr'}]"
      ]
     },
     "execution_count": 22,
     "metadata": {},
     "output_type": "execute_result"
    }
   ],
   "source": [
    "class_data_records = class_data_df.to_dict(orient='records')\n",
    "class_data_records"
   ]
  },
  {
   "cell_type": "code",
   "execution_count": null,
   "metadata": {},
   "outputs": [],
   "source": []
  },
  {
   "cell_type": "markdown",
   "metadata": {},
   "source": [
    "## Example of inserting rows individually\n",
    "\n",
    "Loop through the DataFrame and assemble indiviudal dictionaries"
   ]
  },
  {
   "cell_type": "code",
   "execution_count": 29,
   "metadata": {},
   "outputs": [],
   "source": [
    "for rec in class_data_records:\n",
    " \n",
    "    record = {\n",
    "        'ID_Class__c': rec['ID_Class__c'],\n",
    "        'ID_Course__c': rec['ID_Course__c'],\n",
    "        'Course_record_ID__c': rec['Course_record_ID__c'],\n",
    "        'Section__c': rec['Section__c'],\n",
    "        'StartDate__c': str(rec['Start_Date__c']),\n",
    "        'EndDate__c': str(rec['End_Date__c'])\n",
    "    }\n",
    "    \n",
    "    try:\n",
    "        sf.class__c.create(record)\n",
    "    except Exception as e:\n",
    "        print(e)"
   ]
  },
  {
   "cell_type": "markdown",
   "metadata": {},
   "source": [
    "## Example of inserting rows in bulk"
   ]
  },
  {
   "cell_type": "code",
   "execution_count": null,
   "metadata": {},
   "outputs": [],
   "source": [
    "try:\n",
    "    sf.bulk.Lead.insert(student_load)\n",
    "except Exception as e:\n",
    "    print(e)"
   ]
  }
 ],
 "metadata": {
  "kernelspec": {
   "display_name": "Python 3",
   "language": "python",
   "name": "python3"
  },
  "language_info": {
   "codemirror_mode": {
    "name": "ipython",
    "version": 3
   },
   "file_extension": ".py",
   "mimetype": "text/x-python",
   "name": "python",
   "nbconvert_exporter": "python",
   "pygments_lexer": "ipython3",
   "version": "3.7.6"
  }
 },
 "nbformat": 4,
 "nbformat_minor": 2
}
